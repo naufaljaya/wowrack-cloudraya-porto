{
  "cells": [
    {
      "cell_type": "code",
      "execution_count": 1,
      "metadata": {
        "colab": {
          "base_uri": "https://localhost:8080/",
          "height": 122
        },
        "colab_type": "code",
        "id": "lnz8kF7JX4kO",
        "outputId": "770c4510-44fa-4bc6-9453-1fd699bb5e2f"
      },
      "outputs": [
        {
          "name": "stdout",
          "output_type": "stream",
          "text": [
            "Go to this URL in a browser: https://accounts.google.com/o/oauth2/auth?client_id=947318989803-6bn6qk8qdgf4n4g3pfee6491hc0brc4i.apps.googleusercontent.com&redirect_uri=urn%3aietf%3awg%3aoauth%3a2.0%3aoob&response_type=code&scope=email%20https%3a%2f%2fwww.googleapis.com%2fauth%2fdocs.test%20https%3a%2f%2fwww.googleapis.com%2fauth%2fdrive%20https%3a%2f%2fwww.googleapis.com%2fauth%2fdrive.photos.readonly%20https%3a%2f%2fwww.googleapis.com%2fauth%2fpeopleapi.readonly\n",
            "\n",
            "Enter your authorization code:\n",
            "··········\n",
            "Mounted at /content/drive\n"
          ]
        }
      ],
      "source": [
        "from google.colab import drive\n",
        "drive.mount('/content/drive')"
      ]
    },
    {
      "cell_type": "code",
      "execution_count": null,
      "metadata": {
        "colab": {
          "base_uri": "https://localhost:8080/",
          "height": 80
        },
        "colab_type": "code",
        "id": "oS-BDuLOX_vC",
        "outputId": "93f21e0b-74f2-4ae4-9090-646930fc37f6"
      },
      "outputs": [],
      "source": [
        " #%tensorflow_version 2.x\n",
        "from sklearn.preprocessing import LabelEncoder\n",
        "from keras.models import Sequential\n",
        "from keras.layers import Dense, Dropout, Activation, Lambda, Flatten\n",
        "from keras.layers import Convolution1D, Dense, Dropout, MaxPooling1D, LSTM\n",
        "from sklearn.model_selection import train_test_split\n",
        "from sklearn.preprocessing import Normalizer\n",
        "from keras import callbacks\n",
        "from keras.callbacks import CSVLogger\n",
        "from keras.utils import to_categorical\n",
        "from keras.callbacks import ModelCheckpoint, EarlyStopping, ReduceLROnPlateau, CSVLogger\n",
        "import numpy as np\n",
        "np.random.seed(0)"
      ]
    },
    {
      "cell_type": "code",
      "execution_count": 3,
      "metadata": {
        "colab": {
          "base_uri": "https://localhost:8080/",
          "height": 275
        },
        "colab_type": "code",
        "id": "UhGqcdZLX_z7",
        "outputId": "5c5c57f9-c6b8-4957-b6de-9706ccb87521"
      },
      "outputs": [
        {
          "data": {
            "text/html": [
              "<div>\n",
              "<style scoped>\n",
              "    .dataframe tbody tr th:only-of-type {\n",
              "        vertical-align: middle;\n",
              "    }\n",
              "\n",
              "    .dataframe tbody tr th {\n",
              "        vertical-align: top;\n",
              "    }\n",
              "\n",
              "    .dataframe thead th {\n",
              "        text-align: right;\n",
              "    }\n",
              "</style>\n",
              "<table border=\"1\" class=\"dataframe\">\n",
              "  <thead>\n",
              "    <tr style=\"text-align: right;\">\n",
              "      <th></th>\n",
              "      <th>Source Port</th>\n",
              "      <th>Destination IP</th>\n",
              "      <th>Destination Port</th>\n",
              "      <th>Protocol</th>\n",
              "      <th>Total Length of Fwd Packets</th>\n",
              "      <th>Fwd Packet Length Max</th>\n",
              "      <th>Fwd Packet Length Min</th>\n",
              "      <th>Fwd Packet Length Mean</th>\n",
              "      <th>Bwd Packet Length Max</th>\n",
              "      <th>Bwd Packet Length Min</th>\n",
              "      <th>Bwd Packet Length Mean</th>\n",
              "      <th>Bwd Packet Length Std</th>\n",
              "      <th>Flow IAT Mean</th>\n",
              "      <th>Flow IAT Std</th>\n",
              "      <th>Fwd IAT Mean</th>\n",
              "      <th>Fwd IAT Std</th>\n",
              "      <th>Fwd PSH Flags</th>\n",
              "      <th>Fwd Packets/s</th>\n",
              "      <th>Min Packet Length</th>\n",
              "      <th>Max Packet Length</th>\n",
              "      <th>Packet Length Mean</th>\n",
              "      <th>Packet Length Variance</th>\n",
              "      <th>RST Flag Count</th>\n",
              "      <th>ACK Flag Count</th>\n",
              "      <th>URG Flag Count</th>\n",
              "      <th>CWE Flag Count</th>\n",
              "      <th>Average Packet Size</th>\n",
              "      <th>Avg Fwd Segment Size</th>\n",
              "      <th>Avg Bwd Segment Size</th>\n",
              "      <th>Subflow Fwd Bytes</th>\n",
              "      <th>Init_Win_bytes_forward</th>\n",
              "      <th>Init_Win_bytes_backward</th>\n",
              "      <th>Idle Std</th>\n",
              "      <th>Inbound</th>\n",
              "    </tr>\n",
              "  </thead>\n",
              "  <tbody>\n",
              "    <tr>\n",
              "      <th>0</th>\n",
              "      <td>1.395596</td>\n",
              "      <td>0.157586</td>\n",
              "      <td>-0.607399</td>\n",
              "      <td>-2.031188</td>\n",
              "      <td>-0.725421</td>\n",
              "      <td>-0.954992</td>\n",
              "      <td>-0.935156</td>\n",
              "      <td>-0.945029</td>\n",
              "      <td>-0.050579</td>\n",
              "      <td>0.342849</td>\n",
              "      <td>0.015085</td>\n",
              "      <td>-0.076871</td>\n",
              "      <td>-0.178761</td>\n",
              "      <td>-0.175445</td>\n",
              "      <td>-0.178330</td>\n",
              "      <td>-0.168507</td>\n",
              "      <td>-0.090471</td>\n",
              "      <td>-1.335866</td>\n",
              "      <td>-0.935040</td>\n",
              "      <td>-0.940755</td>\n",
              "      <td>-0.948545</td>\n",
              "      <td>-0.069737</td>\n",
              "      <td>-0.090471</td>\n",
              "      <td>2.209740</td>\n",
              "      <td>-0.153371</td>\n",
              "      <td>-0.101473</td>\n",
              "      <td>-0.933777</td>\n",
              "      <td>-0.945029</td>\n",
              "      <td>0.015085</td>\n",
              "      <td>-0.725421</td>\n",
              "      <td>-0.054584</td>\n",
              "      <td>-0.057299</td>\n",
              "      <td>-0.162793</td>\n",
              "      <td>0.19758</td>\n",
              "    </tr>\n",
              "    <tr>\n",
              "      <th>1</th>\n",
              "      <td>0.347887</td>\n",
              "      <td>0.157586</td>\n",
              "      <td>-1.625958</td>\n",
              "      <td>-2.031188</td>\n",
              "      <td>-0.733744</td>\n",
              "      <td>-0.954992</td>\n",
              "      <td>-0.935156</td>\n",
              "      <td>-0.945029</td>\n",
              "      <td>-0.050579</td>\n",
              "      <td>0.342849</td>\n",
              "      <td>0.015085</td>\n",
              "      <td>-0.076871</td>\n",
              "      <td>-0.216151</td>\n",
              "      <td>-0.222876</td>\n",
              "      <td>-0.227006</td>\n",
              "      <td>-0.222546</td>\n",
              "      <td>-0.090471</td>\n",
              "      <td>-1.324001</td>\n",
              "      <td>-0.935040</td>\n",
              "      <td>-0.940755</td>\n",
              "      <td>-0.948545</td>\n",
              "      <td>-0.069737</td>\n",
              "      <td>-0.090471</td>\n",
              "      <td>2.209740</td>\n",
              "      <td>-0.153371</td>\n",
              "      <td>-0.101473</td>\n",
              "      <td>-0.933085</td>\n",
              "      <td>-0.945029</td>\n",
              "      <td>0.015085</td>\n",
              "      <td>-0.733744</td>\n",
              "      <td>7.027636</td>\n",
              "      <td>-0.057299</td>\n",
              "      <td>-0.162793</td>\n",
              "      <td>0.19758</td>\n",
              "    </tr>\n",
              "    <tr>\n",
              "      <th>2</th>\n",
              "      <td>1.196809</td>\n",
              "      <td>0.157586</td>\n",
              "      <td>-0.560525</td>\n",
              "      <td>-2.031188</td>\n",
              "      <td>-0.725421</td>\n",
              "      <td>-0.954992</td>\n",
              "      <td>-0.935156</td>\n",
              "      <td>-0.945029</td>\n",
              "      <td>-0.050579</td>\n",
              "      <td>0.342849</td>\n",
              "      <td>0.015085</td>\n",
              "      <td>-0.076871</td>\n",
              "      <td>-0.182709</td>\n",
              "      <td>-0.180450</td>\n",
              "      <td>-0.183461</td>\n",
              "      <td>-0.174204</td>\n",
              "      <td>-0.090471</td>\n",
              "      <td>-1.335864</td>\n",
              "      <td>-0.935040</td>\n",
              "      <td>-0.940755</td>\n",
              "      <td>-0.948545</td>\n",
              "      <td>-0.069737</td>\n",
              "      <td>-0.090471</td>\n",
              "      <td>2.209740</td>\n",
              "      <td>-0.153371</td>\n",
              "      <td>-0.101473</td>\n",
              "      <td>-0.933777</td>\n",
              "      <td>-0.945029</td>\n",
              "      <td>0.015085</td>\n",
              "      <td>-0.725421</td>\n",
              "      <td>-0.054584</td>\n",
              "      <td>-0.057299</td>\n",
              "      <td>-0.162793</td>\n",
              "      <td>0.19758</td>\n",
              "    </tr>\n",
              "    <tr>\n",
              "      <th>3</th>\n",
              "      <td>0.892029</td>\n",
              "      <td>0.157586</td>\n",
              "      <td>-1.562081</td>\n",
              "      <td>-2.031188</td>\n",
              "      <td>-0.725421</td>\n",
              "      <td>-0.954992</td>\n",
              "      <td>-0.935156</td>\n",
              "      <td>-0.945029</td>\n",
              "      <td>-0.050579</td>\n",
              "      <td>0.342849</td>\n",
              "      <td>0.015085</td>\n",
              "      <td>-0.076871</td>\n",
              "      <td>-0.186161</td>\n",
              "      <td>-0.184840</td>\n",
              "      <td>-0.187948</td>\n",
              "      <td>-0.179186</td>\n",
              "      <td>-0.090471</td>\n",
              "      <td>-1.335861</td>\n",
              "      <td>-0.935040</td>\n",
              "      <td>-0.940755</td>\n",
              "      <td>-0.948545</td>\n",
              "      <td>-0.069737</td>\n",
              "      <td>-0.090471</td>\n",
              "      <td>2.209740</td>\n",
              "      <td>-0.153371</td>\n",
              "      <td>-0.101473</td>\n",
              "      <td>-0.933777</td>\n",
              "      <td>-0.945029</td>\n",
              "      <td>0.015085</td>\n",
              "      <td>-0.725421</td>\n",
              "      <td>-0.054584</td>\n",
              "      <td>-0.057299</td>\n",
              "      <td>-0.162793</td>\n",
              "      <td>0.19758</td>\n",
              "    </tr>\n",
              "    <tr>\n",
              "      <th>4</th>\n",
              "      <td>-0.914218</td>\n",
              "      <td>0.157586</td>\n",
              "      <td>0.169285</td>\n",
              "      <td>0.489985</td>\n",
              "      <td>-0.424394</td>\n",
              "      <td>-0.494002</td>\n",
              "      <td>-0.472024</td>\n",
              "      <td>-0.480570</td>\n",
              "      <td>-0.085259</td>\n",
              "      <td>-0.138378</td>\n",
              "      <td>-0.095478</td>\n",
              "      <td>-0.076871</td>\n",
              "      <td>-0.216208</td>\n",
              "      <td>-0.222934</td>\n",
              "      <td>-0.227005</td>\n",
              "      <td>-0.222546</td>\n",
              "      <td>-0.090471</td>\n",
              "      <td>-0.610670</td>\n",
              "      <td>-0.471885</td>\n",
              "      <td>-0.494875</td>\n",
              "      <td>-0.483551</td>\n",
              "      <td>-0.069737</td>\n",
              "      <td>-0.090471</td>\n",
              "      <td>-0.452542</td>\n",
              "      <td>-0.153371</td>\n",
              "      <td>-0.101473</td>\n",
              "      <td>-0.467788</td>\n",
              "      <td>-0.480570</td>\n",
              "      <td>-0.095478</td>\n",
              "      <td>-0.424394</td>\n",
              "      <td>-0.362285</td>\n",
              "      <td>-0.057771</td>\n",
              "      <td>-0.162793</td>\n",
              "      <td>0.19758</td>\n",
              "    </tr>\n",
              "  </tbody>\n",
              "</table>\n",
              "</div>"
            ],
            "text/plain": [
              "    Source Port   Destination IP  ...   Idle Std   Inbound\n",
              "0      1.395596         0.157586  ...  -0.162793   0.19758\n",
              "1      0.347887         0.157586  ...  -0.162793   0.19758\n",
              "2      1.196809         0.157586  ...  -0.162793   0.19758\n",
              "3      0.892029         0.157586  ...  -0.162793   0.19758\n",
              "4     -0.914218         0.157586  ...  -0.162793   0.19758\n",
              "\n",
              "[5 rows x 34 columns]"
            ]
          },
          "execution_count": 3,
          "metadata": {
            "tags": []
          },
          "output_type": "execute_result"
        }
      ],
      "source": [
        "#loading dataset\n",
        "import pandas as pd\n",
        "x = pd.read_csv(\"/content/drive/My Drive/dos_dataset/clean_5.csv\")\n",
        "y = pd.read_csv(\"/content/drive/My Drive/dos_dataset/y.csv\")\n",
        "y=y['Label']\n",
        "x=x.drop(['Label'], axis=1)\n",
        "\n",
        "#normalizing the data\n",
        "normalized_df=(x-x.mean())/x.std()\n",
        "\n",
        "normalized_df=normalized_df.drop(['Unnamed: 0'], axis=1)\n",
        "normalized_df=normalized_df.drop(['Unnamed: 0.1'], axis=1)\n",
        "normalized_df=normalized_df.drop(['Unnamed: 0.1.1'], axis=1)\n",
        "normalized_df=normalized_df.drop(['Flow Bytes/s'], axis=1)\n",
        "normalized_df=normalized_df.drop([' Flow Packets/s'], axis=1)\n",
        "\n",
        "y = pd.get_dummies(y,prefix=['Label'], drop_first=True)\n",
        "\n",
        "normalized_df.head()"
      ]
    },
    {
      "cell_type": "code",
      "execution_count": 4,
      "metadata": {
        "colab": {
          "base_uri": "https://localhost:8080/",
          "height": 119
        },
        "colab_type": "code",
        "id": "dJTE1lD8YhDQ",
        "outputId": "7b8f40e8-f9b5-4408-9249-c420ae9d740a"
      },
      "outputs": [
        {
          "data": {
            "text/plain": [
              "0    2\n",
              "1    2\n",
              "2    2\n",
              "3    2\n",
              "4    2\n",
              "Name: Label, dtype: int64"
            ]
          },
          "execution_count": 4,
          "metadata": {
            "tags": []
          },
          "output_type": "execute_result"
        }
      ],
      "source": [
        "y = pd.read_csv(\"/content/drive/My Drive/dos_dataset/y.csv\")\n",
        "y=y['Label']\n",
        "y.head()"
      ]
    },
    {
      "cell_type": "code",
      "execution_count": 5,
      "metadata": {
        "colab": {
          "base_uri": "https://localhost:8080/",
          "height": 34
        },
        "colab_type": "code",
        "id": "XDBQEpsTX_3b",
        "outputId": "0ee5cbde-c3be-4a0e-b3e7-8952e21b6d02"
      },
      "outputs": [
        {
          "name": "stdout",
          "output_type": "stream",
          "text": [
            "xtrain=(872058, 34), ytrain=(872058,), xtest=(373740, 34), ytest=(373740,)\n"
          ]
        }
      ],
      "source": [
        "from sklearn.model_selection import train_test_split\n",
        "X_train, X_test, y_train, y_test = train_test_split(normalized_df, y, test_size=0.3, random_state=0)\n",
        "y_train = np.array(y_train)\n",
        "\n",
        "y_train = np.array(y_train)\n",
        "y_test = np.array(y_test)\n",
        "X_train = np.array(X_train)\n",
        "X_test = np.array(X_test)\n",
        "X_train = np.reshape(X_train, (X_train.shape[0],X_train.shape[1]))\n",
        "X_test = np.reshape(X_test, (X_test.shape[0],X_test.shape[1]))\n",
        "\n",
        "print('xtrain={}, ytrain={}, xtest={}, ytest={}'.format(X_train.shape,y_train.shape,X_test.shape,y_test.shape))"
      ]
    },
    {
      "cell_type": "markdown",
      "metadata": {
        "colab_type": "text",
        "id": "a7ZM193PagA5"
      },
      "source": [
        "**XGBoost**\n",
        "\n",
        "> with metrics\n",
        "\n"
      ]
    },
    {
      "cell_type": "code",
      "execution_count": 6,
      "metadata": {
        "colab": {
          "base_uri": "https://localhost:8080/",
          "height": 68
        },
        "colab_type": "code",
        "id": "phVeKBGYamO-",
        "outputId": "22c659dd-7f91-4b0c-be67-5c9dfe1897a3"
      },
      "outputs": [
        {
          "name": "stdout",
          "output_type": "stream",
          "text": [
            "Requirement already satisfied: xgboost in /usr/local/lib/python3.6/dist-packages (0.90)\n",
            "Requirement already satisfied: numpy in /usr/local/lib/python3.6/dist-packages (from xgboost) (1.17.5)\n",
            "Requirement already satisfied: scipy in /usr/local/lib/python3.6/dist-packages (from xgboost) (1.4.1)\n"
          ]
        }
      ],
      "source": [
        "!pip install xgboost"
      ]
    },
    {
      "cell_type": "code",
      "execution_count": null,
      "metadata": {
        "colab": {},
        "colab_type": "code",
        "id": "9ZE9XYK6AzKO"
      },
      "outputs": [],
      "source": [
        "from xgboost import XGBClassifier\n",
        "model = XGBClassifier()\n",
        "model.fit(X_train, y_train)\n",
        "\n",
        "import pickle\n",
        "pickle.dump(model, open(\"/content/drive/My Drive/dos_dataset/final_xgb.pickle.dat\", \"wb\"))"
      ]
    },
    {
      "cell_type": "code",
      "execution_count": null,
      "metadata": {
        "colab": {},
        "colab_type": "code",
        "id": "tVRI3zWqGJD1"
      },
      "outputs": [],
      "source": [
        "y_pred=model.predict(X_test)"
      ]
    },
    {
      "cell_type": "code",
      "execution_count": 10,
      "metadata": {
        "colab": {
          "base_uri": "https://localhost:8080/",
          "height": 34
        },
        "colab_type": "code",
        "id": "8RrZdXa8Fz2C",
        "outputId": "3aef8cd0-6990-488b-8fac-bcfd93ddb686"
      },
      "outputs": [
        {
          "data": {
            "text/plain": [
              "(872058,)"
            ]
          },
          "execution_count": 10,
          "metadata": {
            "tags": []
          },
          "output_type": "execute_result"
        }
      ],
      "source": [
        "y_train.shape"
      ]
    },
    {
      "cell_type": "code",
      "execution_count": 15,
      "metadata": {
        "colab": {
          "base_uri": "https://localhost:8080/",
          "height": 510
        },
        "colab_type": "code",
        "id": "854hNxDbao_c",
        "outputId": "9da28dd8-ce69-4883-df42-ab3c4d3c9692"
      },
      "outputs": [
        {
          "name": "stdout",
          "output_type": "stream",
          "text": [
            "XGBoost Classifier\n",
            "Accuracy =  89.29871033338685\n",
            "Confusion Matrix =\n",
            " [[17136     0     0     0     0     0     0     0]\n",
            " [    1 56298     6     0  3467     0     0     1]\n",
            " [    0     0 59645    42    17     5     0     0]\n",
            " [    2     1    24 60168    22     0   199     0]\n",
            " [   11 34241     8    68 21904     1     0    16]\n",
            " [    1     0     0     2     1 59765     2     0]\n",
            " [    1     0     0  1621    11     0 58430    19]\n",
            " [    1     0     0    20    55     0   129   399]]\n",
            "Recall = 0.8929871033338684\n",
            "Classification Report =\n",
            "               precision    recall  f1-score   support\n",
            "\n",
            "           0       1.00      1.00      1.00     17136\n",
            "           1       0.62      0.94      0.75     59773\n",
            "           2       1.00      1.00      1.00     59709\n",
            "           3       0.97      1.00      0.98     60416\n",
            "           4       0.86      0.39      0.54     56249\n",
            "           5       1.00      1.00      1.00     59771\n",
            "           6       0.99      0.97      0.98     60082\n",
            "           7       0.92      0.66      0.77       604\n",
            "\n",
            "    accuracy                           0.89    373740\n",
            "   macro avg       0.92      0.87      0.88    373740\n",
            "weighted avg       0.91      0.89      0.88    373740\n",
            "\n",
            "F1 Score =  0.8773342009066785\n"
          ]
        }
      ],
      "source": [
        "from sklearn import metrics\n",
        "from sklearn.metrics import f1_score\n",
        "print('XGBoost Classifier')\n",
        "\n",
        "print('Accuracy = ', metrics.accuracy_score(y_test, y_pred)*100)\n",
        "print(\"Confusion Matrix =\\n\", metrics.confusion_matrix(y_test, y_pred, labels=None, \n",
        "                                              sample_weight=None))\n",
        "print(\"Recall =\", metrics.recall_score(y_test, y_pred, labels=None, \n",
        "                                             pos_label=1, average='weighted', \n",
        "                                             sample_weight=None))\n",
        "print(\"Classification Report =\\n\", metrics.classification_report(y_test, y_pred, \n",
        "                                                                 labels=None, \n",
        "                                                                 target_names=None, \n",
        "                                                                 sample_weight=None, \n",
        "                                                                 digits=2, \n",
        "                                                                 output_dict=False))\n",
        "\n",
        "print(\"F1 Score = \",f1_score(y_test, y_pred, average='macro'))"
      ]
    }
  ],
  "metadata": {
    "colab": {
      "include_colab_link": true,
      "name": "DDOS_XGBoost.ipynb",
      "provenance": []
    },
    "kernelspec": {
      "display_name": "Python 3",
      "name": "python3"
    }
  },
  "nbformat": 4,
  "nbformat_minor": 0
}
